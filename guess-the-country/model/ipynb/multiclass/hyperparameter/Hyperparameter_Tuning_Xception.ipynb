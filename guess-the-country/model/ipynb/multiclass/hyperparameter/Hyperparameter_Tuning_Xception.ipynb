{
  "cells": [
    {
      "cell_type": "markdown",
      "metadata": {
        "id": "b2564b29"
      },
      "source": [
        "# **Hyperparameter Tuning**\n",
        "---"
      ],
      "id": "b2564b29"
    },
    {
      "cell_type": "code",
      "execution_count": 1,
      "metadata": {
        "id": "1L_A09cOU9Hu"
      },
      "outputs": [],
      "source": [
        "#Clear any logs from previous runs\n",
        "!rm -rf ./logs/ "
      ],
      "id": "1L_A09cOU9Hu"
    },
    {
      "cell_type": "code",
      "execution_count": 2,
      "metadata": {
        "colab": {
          "base_uri": "https://localhost:8080/"
        },
        "id": "Qvaz4pA0LGIA",
        "outputId": "3e4a71bc-3709-4466-b368-926defaa9dea"
      },
      "outputs": [
        {
          "output_type": "stream",
          "name": "stdout",
          "text": [
            "Not connected to a GPU\n"
          ]
        }
      ],
      "source": [
        "gpu_info = !nvidia-smi\n",
        "gpu_info = '\\n'.join(gpu_info)\n",
        "if gpu_info.find('failed') >= 0:\n",
        "  print('Not connected to a GPU')\n",
        "else:\n",
        "  print(gpu_info)"
      ],
      "id": "Qvaz4pA0LGIA"
    },
    {
      "cell_type": "code",
      "execution_count": 3,
      "metadata": {
        "id": "9779dc2a"
      },
      "outputs": [],
      "source": [
        "#Import of the relevant libaries\n",
        "import numpy as np\n",
        "import matplotlib.pyplot as plt \n",
        "import time\n",
        "import pickle\n",
        "import tensorflow as tf   \n",
        "from tensorflow.keras.models import Sequential\n",
        "from tensorflow.keras.layers import Dense, Dropout, Activation, Flatten, Conv2D, MaxPooling2D, BatchNormalization, GlobalAveragePooling2D\n",
        "from tensorflow.keras.callbacks import TensorBoard\n",
        "from tensorflow.keras.models import Sequential\n",
        "from sklearn.model_selection import train_test_split\n",
        "from tensorflow.keras.applications import MobileNetV2, Xception, NASNetMobile, InceptionResNetV2\n",
        "from tensorflow.keras.layers import Dense, Input, Dropout\n",
        "from tensorflow.keras.models import Model\n",
        "from sklearn.model_selection import train_test_split\n",
        "from tensorflow.keras.optimizers import Adam, Nadam\n",
        "from sklearn.metrics import classification_report, confusion_matrix\n",
        "from sklearn.metrics import accuracy_score\n",
        "from tensorboard.plugins.hparams import api as hp\n",
        "import sklearn.metrics as metrics\n",
        "#This is only necessary when you use google.colab and the trainingsdata are stored in google drive\n",
        "from google.colab import drive\n",
        "from tensorflow.keras.preprocessing.image import ImageDataGenerator\n",
        "from sklearn.model_selection import KFold"
      ],
      "id": "9779dc2a"
    },
    {
      "cell_type": "code",
      "execution_count": 4,
      "metadata": {
        "id": "05fae6d5"
      },
      "outputs": [],
      "source": [
        "# Reduce learning rate when there is a change lesser than <min_delta> in <val_accuracy> for more than <patience> epochs\n",
        "reduce_lr = tf.keras.callbacks.ReduceLROnPlateau(monitor = 'val_accuracy',\n",
        "                                                 mode = 'max',\n",
        "                                                 min_delta = 0.01,\n",
        "                                                 patience = 3,\n",
        "                                                 factor = 0.25,\n",
        "                                                 verbose = 1,\n",
        "                                                 cooldown = 0,\n",
        "                                                 min_lr = 0.00000001)\n",
        "\n",
        "# Stop the training process when there is a change lesser than <min_delta> in <val_accuracy> for more than <patience> epochs\n",
        "early_stopper = tf.keras.callbacks.EarlyStopping(monitor = 'val_accuracy',\n",
        "                                                 mode = 'max',\n",
        "                                                 min_delta = 0.005,\n",
        "                                                 patience = 8,\n",
        "                                                 verbose = 1,\n",
        "                                                 restore_best_weights = True)"
      ],
      "id": "05fae6d5"
    },
    {
      "cell_type": "code",
      "execution_count": 5,
      "metadata": {
        "id": "fblBZbzarhrS"
      },
      "outputs": [],
      "source": [
        "image_size = (224, 224)\n",
        "batch_size = 32\n",
        "epochs=50\n",
        "num_classes = 4"
      ],
      "id": "fblBZbzarhrS"
    },
    {
      "cell_type": "markdown",
      "metadata": {
        "id": "2a47bd74"
      },
      "source": [
        "## **Table of Conents**\n",
        "---\n",
        "[Own CNN Model](#cnn)<br>\n",
        "[MobileNetV2](#mobile)<br>\n",
        "[Xception](#xception)<br>\n",
        "[NASNetMobile](#NASNetMobile)<br>\n",
        "[ResNet](#ResNet)<br>\n",
        "[Evaluation](#Evaluation)<br>"
      ],
      "id": "2a47bd74"
    },
    {
      "cell_type": "markdown",
      "metadata": {
        "id": "c04ab439"
      },
      "source": [
        "**Import the preprocessed data**"
      ],
      "id": "c04ab439"
    },
    {
      "cell_type": "code",
      "execution_count": 6,
      "metadata": {
        "colab": {
          "base_uri": "https://localhost:8080/"
        },
        "id": "l7xTJQzeDE9L",
        "outputId": "812039d7-69da-45af-935e-743da8bfa3b2"
      },
      "outputs": [
        {
          "output_type": "stream",
          "name": "stdout",
          "text": [
            "Mounted at /content/drive\n"
          ]
        }
      ],
      "source": [
        "#This is only necessary when you use google.colab and the trainingsdata are stored in google drive\n",
        "drive.mount('/content/drive')"
      ],
      "id": "l7xTJQzeDE9L"
    },
    {
      "cell_type": "code",
      "execution_count": null,
      "metadata": {
        "id": "ef9237d8"
      },
      "outputs": [],
      "source": [
        "#x_train = pickle.load(open(\"/content/drive/MyDrive/x_train2.pickle\", \"rb\"))\n",
        "#x_test = pickle.load(open(\"/content/drive/MyDrive/x_test2.pickle\", \"rb\"))\n",
        "#y_train = pickle.load(open(\"/content/drive/MyDrive/y_train2.pickle\", \"rb\"))\n",
        "#y_test = pickle.load(open(\"/content/drive/MyDrive/y_test2.pickle\", \"rb\"))\n",
        "\n",
        "# x_train = pickle.load(open(\"C:/Users/denni/OneDrive/Dokumente/Uni/Master/Masterarbeit/drive-download-20211109T191423Z-001/x_train.pickle\", \"rb\"))\n",
        "# x_test = pickle.load(open(\"C:/Users/denni/OneDrive/Dokumente/Uni/Master/Masterarbeit/drive-download-20211109T191423Z-001/x_test.pickle\", \"rb\"))\n",
        "# y_train = pickle.load(open(\"C:/Users/denni/OneDrive/Dokumente/Uni/Master/Masterarbeit/drive-download-20211109T191423Z-001/y_train.pickle\", \"rb\"))\n",
        "# y_test = pickle.load(open(\"C:/Users/denni/OneDrive/Dokumente/Uni/Master/Masterarbeit/drive-download-20211109T191423Z-001/y_test.pickle\", \"rb\"))"
      ],
      "id": "ef9237d8"
    },
    {
      "cell_type": "code",
      "execution_count": null,
      "metadata": {
        "id": "u4ar_8bYWgWV"
      },
      "outputs": [],
      "source": [
        "def random_contrast(x):\n",
        "  return   tf.image.random_contrast(\n",
        "      x, 0.1, 0.8\n",
        "  )\n"
      ],
      "id": "u4ar_8bYWgWV"
    },
    {
      "cell_type": "code",
      "execution_count": 21,
      "metadata": {
        "colab": {
          "base_uri": "https://localhost:8080/"
        },
        "id": "mcpjKHYTrqx1",
        "outputId": "e5c10e17-b881-4d68-b607-af57148d6ccf"
      },
      "outputs": [
        {
          "output_type": "stream",
          "name": "stdout",
          "text": [
            "Found 9600 images belonging to 4 classes.\n",
            "Found 2400 images belonging to 4 classes.\n"
          ]
        }
      ],
      "source": [
        "datagen = ImageDataGenerator(\n",
        "        rescale=1./255,\n",
        "        shear_range=0.2,\n",
        "        brightness_range = (0.4, 0.6),\n",
        "        zoom_range=0.2,\n",
        "        horizontal_flip=True,\n",
        "        validation_split=0.2,\n",
        "        preprocessing_function = tf.keras.applications.xception.preprocess_input\n",
        "        )\n",
        "\n",
        "\n",
        "train_generator = datagen.flow_from_directory(\n",
        "        '/content/drive/MyDrive/Images/Train',\n",
        "        target_size=image_size,\n",
        "        color_mode='rgb',\n",
        "        classes = [\"Tel-Aviv\",\"WestJerusalem\" ,\"Berlin\", \"Hamburg\"],\n",
        "        batch_size=batch_size,\n",
        "        shuffle = True,\n",
        "        seed = 777,\n",
        "        #save_to_dir = '/content/fotos',\n",
        "        #save_format='png', \n",
        "        follow_links=True,\n",
        "        subset = 'training',\n",
        "        class_mode='categorical')\n",
        "\n",
        "validation_generator  = datagen.flow_from_directory(\n",
        "        '/content/drive/MyDrive/Images/Train',\n",
        "        target_size=image_size,\n",
        "        color_mode='rgb',\n",
        "        classes = [\"Tel-Aviv\",\"WestJerusalem\" ,\"Berlin\", \"Hamburg\"],\n",
        "        batch_size=batch_size,\n",
        "        shuffle = True,\n",
        "        seed = 777,\n",
        "        #save_to_dir = '/content/fotos',\n",
        "        #save_format='png', \n",
        "        follow_links=True,\n",
        "        subset = 'validation',\n",
        "        class_mode='categorical')"
      ],
      "id": "mcpjKHYTrqx1"
    },
    {
      "cell_type": "code",
      "execution_count": 16,
      "metadata": {
        "id": "kvlA1w54S23S"
      },
      "outputs": [],
      "source": [
        "#HP_ACTIVATION = hp.HParam('activation', hp.Discrete(['selu']))\n",
        "#HP_ACTIVATION = hp.HParam('activation', hp.Discrete(['relu', 'elu']))\n",
        "HP_OPTIMIZER = hp.HParam('optimizer', hp.Discrete(['adam', 'sgd']))\n",
        "#HP_OPTIMIZER = hp.HParam('optimizer', hp.Discrete(['adam', 'adagrad','nadam']))\n",
        "HP_FTA = hp.HParam('fta', hp.Discrete([100] ))\n",
        "#HP_ALPHA= hp.HParam('alpha', hp.RealInterval(0.8  ,1.2 ))\n",
        "#Settinf the Metric\n",
        "METRIC = 'accuracy'\n"
      ],
      "id": "kvlA1w54S23S"
    },
    {
      "cell_type": "code",
      "execution_count": 17,
      "metadata": {
        "id": "6f3a0920"
      },
      "outputs": [],
      "source": [
        "#Creating & configuring log files\n",
        "with tf.summary.create_file_writer('/content/drive/MyDrive/logs').as_default():\n",
        "    hp.hparams_config(\n",
        "        hparams=[HP_OPTIMIZER, HP_FTA],\n",
        "        metrics=[hp.Metric(METRIC, display_name='accuracy')]\n",
        "    )"
      ],
      "id": "6f3a0920"
    },
    {
      "cell_type": "markdown",
      "metadata": {
        "id": "8df5b122"
      },
      "source": [
        "## Xception\n",
        "<a id='xception'></a>"
      ],
      "id": "8df5b122"
    },
    {
      "cell_type": "code",
      "execution_count": 18,
      "metadata": {
        "id": "17f6ca5a"
      },
      "outputs": [],
      "source": [
        "def create_model_x(hparams, input_shape, num_classes= 4 ):\n",
        "    input_tensor = Input(shape=input_shape)\n",
        "    base_model = Xception(\n",
        "        include_top=False,\n",
        "        weights='imagenet',\n",
        "        input_tensor=input_tensor,\n",
        "        input_shape=input_shape,\n",
        "        pooling='avg')\n",
        "\n",
        "    # Fine-tune from this layer onwards\n",
        "    fine_tune_at = 100\n",
        "\n",
        "    base_model.trainable = True\n",
        "\n",
        "    # Freeze all the layers before the `fine_tune_at` layer\n",
        "    for layer in base_model.layers[:hparams[HP_FTA]]:\n",
        "        layer.trainable =  False\n",
        "        \n",
        "    #op = Dense(256, activation=hparams[HP_ACTIVATION])(base_model.output)\n",
        "    op = Dropout(.25)(base_model.output)\n",
        "    \n",
        "    ##\n",
        "    # sigmoid: calculates a probability for the class.\n",
        "    ##\n",
        "    output_tensor = Dense(num_classes, activation='softmax')(op)\n",
        "\n",
        "    model = Model(inputs=input_tensor, outputs=output_tensor)\n",
        "    \n",
        "    model.compile(loss=\"categorical_crossentropy\", optimizer=hparams[HP_OPTIMIZER], metrics=['accuracy'])\n",
        "    model.fit(train_generator, batch_size=batch_size, epochs=epochs, use_multiprocessing=True, workers=8, validation_data = validation_generator , callbacks=[early_stopper, reduce_lr])\n",
        "    test_loss, test_acc = model.evaluate(validation_generator, use_multiprocessing=True, workers=8, steps=train_generator.n // batch_size)\n",
        "\n",
        "    return test_acc"
      ],
      "id": "17f6ca5a"
    },
    {
      "cell_type": "code",
      "execution_count": 19,
      "metadata": {
        "id": "89cc4a11"
      },
      "outputs": [],
      "source": [
        "def run_x(run_dir, hparams):\n",
        "    with tf.summary.create_file_writer(run_dir).as_default():\n",
        "        hp.hparams(hparams)  \n",
        "        accuracy  = create_model_x(hparams=hparams, input_shape = image_size+(3,), num_classes=num_classes)\n",
        "        tf.summary.scalar(METRIC, accuracy, step=10)"
      ],
      "id": "89cc4a11"
    },
    {
      "cell_type": "code",
      "execution_count": null,
      "metadata": {
        "colab": {
          "base_uri": "https://localhost:8080/"
        },
        "id": "93fbc5ad",
        "outputId": "587807ec-7ec3-437c-9d24-04feb9ba6d3a"
      },
      "outputs": [
        {
          "output_type": "stream",
          "name": "stdout",
          "text": [
            "--- Starting trial: run-0\n",
            "{'optimizer': 'adam', 'fta': 100}\n",
            "Epoch 1/50\n",
            "  4/300 [..............................] - ETA: 52:24 - loss: 1.3822 - accuracy: 0.2891"
          ]
        }
      ],
      "source": [
        "#A unique number for each training session\n",
        "session_num = 0\n",
        "\n",
        "#Nested for loop training with all possible  combinathon of hyperparameters\n",
        "for optimizer in HP_OPTIMIZER.domain.values:\n",
        "    for fta in HP_FTA.domain.values:\n",
        "      hparams = {\n",
        "          HP_OPTIMIZER: optimizer,\n",
        "          HP_FTA: fta\n",
        "      }\n",
        "      run_name = \"run-%d\" % session_num\n",
        "      print('--- Starting trial: %s' % run_name)\n",
        "      print({h.name: hparams[h] for h in hparams})\n",
        "      run_x('/content/drive/MyDrive/logs/x/' + run_name  + ' ' + time.strftime('%X %x %Z') , hparams)\n",
        "      session_num += 1"
      ],
      "id": "93fbc5ad"
    },
    {
      "cell_type": "markdown",
      "metadata": {
        "id": "7zESlv4T2nTC"
      },
      "source": [
        "##Evaluation"
      ],
      "id": "7zESlv4T2nTC"
    },
    {
      "cell_type": "code",
      "execution_count": null,
      "metadata": {
        "id": "SyoZLfnwCjRs"
      },
      "outputs": [],
      "source": [
        "%load_ext tensorboard"
      ],
      "id": "SyoZLfnwCjRs"
    },
    {
      "cell_type": "code",
      "execution_count": null,
      "metadata": {
        "id": "KvNpfRu6Cjon",
        "outputId": "6b37ec84-a7e3-4af2-8fe2-714da8b7a228",
        "colab": {
          "base_uri": "https://localhost:8080/",
          "height": 34
        }
      },
      "outputs": [
        {
          "output_type": "display_data",
          "data": {
            "text/plain": [
              "Launching TensorBoard..."
            ]
          },
          "metadata": {}
        }
      ],
      "source": [
        "%tensorboard --logdir drive/MyDrive/logs/x/"
      ],
      "id": "KvNpfRu6Cjon"
    }
  ],
  "metadata": {
    "colab": {
      "collapsed_sections": [],
      "name": "Hyperparameter_Tuning_Xception.ipynb",
      "provenance": []
    },
    "kernelspec": {
      "display_name": "Python 3",
      "language": "python",
      "name": "python3"
    },
    "language_info": {
      "codemirror_mode": {
        "name": "ipython",
        "version": 3
      },
      "file_extension": ".py",
      "mimetype": "text/x-python",
      "name": "python",
      "nbconvert_exporter": "python",
      "pygments_lexer": "ipython3",
      "version": "3.8.8"
    }
  },
  "nbformat": 4,
  "nbformat_minor": 5
}